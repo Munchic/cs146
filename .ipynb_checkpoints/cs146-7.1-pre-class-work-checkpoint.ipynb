{
 "cells": [
  {
   "cell_type": "code",
   "execution_count": 27,
   "metadata": {},
   "outputs": [],
   "source": [
    "import numpy as np\n",
    "import scipy.stats as sts\n",
    "import matplotlib.pyplot as plt"
   ]
  },
  {
   "cell_type": "code",
   "execution_count": 19,
   "metadata": {},
   "outputs": [],
   "source": [
    "sample_sizes = np.array([100, 250, 500, 750, 1000])\n",
    "percentages = np.array([0.1, 0.2, 0.3, 0.4, 0.5, 0.6, 0.7, 0.8, 0.9])"
   ]
  },
  {
   "cell_type": "code",
   "execution_count": 23,
   "metadata": {},
   "outputs": [],
   "source": [
    "means = np.empty([len(percentages), len(sample_sizes)])\n",
    "stds = np.empty([len(percentages), len(sample_sizes)])\n",
    "for i in range(len(percentages)):\n",
    "    means[i] = sample_sizes * percentages[i]\n",
    "    stds[i] = np.sqrt(sample_sizes * percentages[i] * (1 - percentages[i]))"
   ]
  },
  {
   "cell_type": "code",
   "execution_count": 32,
   "metadata": {},
   "outputs": [
    {
     "name": "stdout",
     "output_type": "stream",
     "text": [
      "[[ 10.  25.  50.  75. 100.]\n",
      " [ 20.  50. 100. 150. 200.]\n",
      " [ 30.  75. 150. 225. 300.]\n",
      " [ 40. 100. 200. 300. 400.]\n",
      " [ 50. 125. 250. 375. 500.]\n",
      " [ 60. 150. 300. 450. 600.]\n",
      " [ 70. 175. 350. 525. 700.]\n",
      " [ 80. 200. 400. 600. 800.]\n",
      " [ 90. 225. 450. 675. 900.]]\n"
     ]
    }
   ],
   "source": [
    "print(means)"
   ]
  },
  {
   "cell_type": "markdown",
   "metadata": {},
   "source": [
    "## Task 1"
   ]
  },
  {
   "cell_type": "code",
   "execution_count": 37,
   "metadata": {},
   "outputs": [],
   "source": [
    "samples = sts.norm(means[0][-1], stds[0][-1]).rvs(size=10000000)\n",
    "conf_int_95 = np.quantile(samples, [0.025, 0.975])"
   ]
  },
  {
   "cell_type": "code",
   "execution_count": 40,
   "metadata": {},
   "outputs": [
    {
     "data": {
      "text/plain": [
       "array([-1.96094175,  1.9598871 ])"
      ]
     },
     "execution_count": 40,
     "metadata": {},
     "output_type": "execute_result"
    }
   ],
   "source": [
    "(conf_int_95 - means[0][-1]) / (stds[0][-1])"
   ]
  },
  {
   "cell_type": "code",
   "execution_count": null,
   "metadata": {},
   "outputs": [],
   "source": []
  }
 ],
 "metadata": {
  "kernelspec": {
   "display_name": "Python 3",
   "language": "python",
   "name": "python3"
  },
  "language_info": {
   "codemirror_mode": {
    "name": "ipython",
    "version": 3
   },
   "file_extension": ".py",
   "mimetype": "text/x-python",
   "name": "python",
   "nbconvert_exporter": "python",
   "pygments_lexer": "ipython3",
   "version": "3.6.5"
  }
 },
 "nbformat": 4,
 "nbformat_minor": 2
}
