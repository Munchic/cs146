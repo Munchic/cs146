{
 "cells": [
  {
   "cell_type": "code",
   "execution_count": 9,
   "metadata": {},
   "outputs": [],
   "source": [
    "import numpy as np\n",
    "import scipy.stats as sts\n",
    "import matplotlib.pyplot as plt"
   ]
  },
  {
   "cell_type": "code",
   "execution_count": 22,
   "metadata": {},
   "outputs": [],
   "source": [
    "sample_sizes = np.array([1000, 750, 500, 250, 100])\n",
    "percentages = np.array([0.1, 0.2, 0.3, 0.4, 0.5, 0.6, 0.7, 0.8, 0.9])"
   ]
  },
  {
   "cell_type": "code",
   "execution_count": 23,
   "metadata": {},
   "outputs": [],
   "source": [
    "errs = np.empty([len(percentages), len(sample_sizes)])\n",
    "for i in range(len(percentages)):\n",
    "    mean = sample_sizes * percentages[i]\n",
    "    std = np.sqrt(sample_sizes * percentages[i] * (1 - percentages[i]))\n",
    "    sample_std = std / np.sqrt(sample_sizes)\n",
    "    errs[i] = 1.96 * (sample_std / np.sqrt(sample_sizes))"
   ]
  },
  {
   "cell_type": "code",
   "execution_count": 24,
   "metadata": {},
   "outputs": [
    {
     "name": "stdout",
     "output_type": "stream",
     "text": [
      "[[0.02 0.02 0.03 0.04 0.06]\n",
      " [0.02 0.03 0.04 0.05 0.08]\n",
      " [0.03 0.03 0.04 0.06 0.09]\n",
      " [0.03 0.04 0.04 0.06 0.1 ]\n",
      " [0.03 0.04 0.04 0.06 0.1 ]\n",
      " [0.03 0.04 0.04 0.06 0.1 ]\n",
      " [0.03 0.03 0.04 0.06 0.09]\n",
      " [0.02 0.03 0.04 0.05 0.08]\n",
      " [0.02 0.02 0.03 0.04 0.06]]\n"
     ]
    }
   ],
   "source": [
    "print(np.around(errs, decimals=2))"
   ]
  },
  {
   "cell_type": "markdown",
   "metadata": {},
   "source": [
    "Differences could be due to non-sample size error calculations, for example, non-response error when people don't pick up the phone, so that breaks complete randomization and makes the sample less representative. On the other hand, people who are on landlines are usually old people, so there is some re-scaling to balance population in terms of age."
   ]
  },
  {
   "cell_type": "code",
   "execution_count": null,
   "metadata": {},
   "outputs": [],
   "source": []
  }
 ],
 "metadata": {
  "kernelspec": {
   "display_name": "Python 3",
   "language": "python",
   "name": "python3"
  },
  "language_info": {
   "codemirror_mode": {
    "name": "ipython",
    "version": 3
   },
   "file_extension": ".py",
   "mimetype": "text/x-python",
   "name": "python",
   "nbconvert_exporter": "python",
   "pygments_lexer": "ipython3",
   "version": "3.6.5"
  }
 },
 "nbformat": 4,
 "nbformat_minor": 2
}
