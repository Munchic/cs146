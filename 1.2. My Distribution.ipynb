{
 "cells": [
  {
   "cell_type": "code",
   "execution_count": 15,
   "metadata": {},
   "outputs": [],
   "source": [
    "import numpy as np"
   ]
  },
  {
   "cell_type": "code",
   "execution_count": 58,
   "metadata": {},
   "outputs": [],
   "source": [
    "class CamelDistribution:\n",
    "    _support = (0, 1)\n",
    "    \n",
    "    def __init__(self, num_humps):\n",
    "        self._num_humps = num_humps\n",
    "        \n",
    "    def _f(self, x):\n",
    "        return np.sin(2*self._num_humps*np.pi*x - np.pi/2) + 1\n",
    "    \n",
    "    def pdf(self, x):\n",
    "        if 0 <= x <= 1:\n",
    "            return self._f(x)\n",
    "        else:\n",
    "            raise(\"Distribution's support is [0, 1]\")\n",
    "    \n",
    "    def cdf(self, x):\n",
    "        if 0 <= x <= 1:\n",
    "            upper_range = (x - np.sin(2*self._num_humps*np.pi*x) / (2*self._num_humps*np.pi))\n",
    "            lower_range = (self._support[0] - np.sin(2*self._num_humps*np.pi*self._support[0]) / (2*self._num_humps*np.pi))\n",
    "            return upper_range - lower_range\n",
    "        else:\n",
    "            raise(\"Distribution's support is [0, 1]\")\n",
    "            \n",
    "#     def qf(self, cdf):\n",
    "#         if 0 <= x <= 1:\n",
    "#             return \n",
    "#         else:"
   ]
  },
  {
   "cell_type": "code",
   "execution_count": 65,
   "metadata": {},
   "outputs": [],
   "source": [
    "a = CamelDistribution(2)"
   ]
  },
  {
   "cell_type": "code",
   "execution_count": 66,
   "metadata": {},
   "outputs": [
    {
     "data": {
      "text/plain": [
       "0.9756826728640657"
      ]
     },
     "execution_count": 66,
     "metadata": {},
     "output_type": "execute_result"
    }
   ],
   "source": [
    "a.cdf(0.9)"
   ]
  },
  {
   "cell_type": "code",
   "execution_count": null,
   "metadata": {},
   "outputs": [],
   "source": []
  }
 ],
 "metadata": {
  "kernelspec": {
   "display_name": "Python 3",
   "language": "python",
   "name": "python3"
  },
  "language_info": {
   "codemirror_mode": {
    "name": "ipython",
    "version": 3
   },
   "file_extension": ".py",
   "mimetype": "text/x-python",
   "name": "python",
   "nbconvert_exporter": "python",
   "pygments_lexer": "ipython3",
   "version": "3.6.5"
  }
 },
 "nbformat": 4,
 "nbformat_minor": 2
}
